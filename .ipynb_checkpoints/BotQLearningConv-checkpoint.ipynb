{
 "cells": [
  {
   "cell_type": "code",
   "execution_count": 1,
   "metadata": {},
   "outputs": [],
   "source": [
    "import numpy as np\n",
    "import random\n",
    "import tensorflow as tf\n",
    "import matplotlib.pyplot as plt\n",
    "import pdb\n",
    "\n",
    "%matplotlib inline"
   ]
  },
  {
   "cell_type": "code",
   "execution_count": 2,
   "metadata": {},
   "outputs": [],
   "source": [
    "import board, config, environment"
   ]
  },
  {
   "cell_type": "code",
   "execution_count": 3,
   "metadata": {},
   "outputs": [],
   "source": [
    "tf.reset_default_graph()"
   ]
  },
  {
   "cell_type": "code",
   "execution_count": 4,
   "metadata": {},
   "outputs": [],
   "source": [
    "# Parameters\n",
    "board_size = 5\n",
    "board_array_size = (board_size -1) * board_size * 2\n",
    "env = environment.Environment(board_size)\n",
    "\n",
    "def state_to_input(state):\n",
    "    rtn = np.zeros(np.power((2 * board_size - 1), 2))\n",
    "    for i, value in enumerate(state):\n",
    "        rtn[2 * i + 1] = value\n",
    "    return rtn.reshape((2 * board_size - 1, 2 * board_size - 1))\n",
    "\n",
    "def output_to_state(output):\n",
    "    output = np.reshape(output, -1)\n",
    "    rtn = np.zeros(board_array_size)\n",
    "    for i, value in enumerate(output):\n",
    "        if i % 2 == 1:\n",
    "            rtn[(i-1) / 2] = value\n",
    "    return rtn"
   ]
  },
  {
   "cell_type": "code",
   "execution_count": 5,
   "metadata": {},
   "outputs": [],
   "source": [
    "class SimpleNet:\n",
    "    def __init__(self):\n",
    "        self.session = tf.Session()\n",
    "        \n",
    "        #These lines establish the feed-forward part of the network used to choose actions\n",
    "        self.input = tf.placeholder(shape=[1, board_array_size],dtype=tf.float32)\n",
    "        self.W = tf.Variable(tf.random_uniform([board_array_size,board_array_size],0,0.01))\n",
    "        self.Qout = tf.matmul(self.input,self.W)\n",
    "        self.predict = tf.argmax(self.Qout,1)\n",
    "\n",
    "        #Below we obtain the loss by taking the sum of squares difference between the target and prediction Q values.\n",
    "        self.nextQ = tf.placeholder(shape=[1,board_array_size],dtype=tf.float32)\n",
    "        self.loss = tf.reduce_sum(tf.square(self.nextQ - self.Qout))\n",
    "        self.trainer = tf.train.GradientDescentOptimizer(learning_rate=0.1)\n",
    "        self.updateModel = self.trainer.minimize(self.loss)\n",
    "    \n",
    "    def get_session(self):\n",
    "        return self.session\n",
    "    \n",
    "    def __enter__(self):\n",
    "        return self\n",
    "    \n",
    "    def __exit__(self, exc_type, exc_val, exc_tb):\n",
    "        self.session.close() "
   ]
  },
  {
   "cell_type": "code",
   "execution_count": 5,
   "metadata": {},
   "outputs": [],
   "source": [
    "class ConvNet:\n",
    "    def __init__(self):\n",
    "        self.session = tf.Session()\n",
    "        num_moves = (2 * board_size - 1) * (board_size - 1) + board_size - 1\n",
    "        # Two conv + relu + max_pool layers\n",
    "        self.input = tf.placeholder(shape=[1, 2 * board_size - 1, 2 * board_size - 1, 1], dtype=tf.float32)\n",
    "        layer1 = self.create_new_conv_layer(input_data = self.input, \n",
    "                                            num_input_channels = 1, \n",
    "                                            num_filters = 32, \n",
    "                                            filter_shape = [3, 3], \n",
    "                                            pool_shape = [2, 2], \n",
    "                                            name='layer1')\n",
    "        layer2 = self.create_new_conv_layer(input_data = layer1, \n",
    "                                            num_input_channels = 32, \n",
    "                                            num_filters = 64, \n",
    "                                            filter_shape = [5, 5], \n",
    "                                            pool_shape = [2, 2], \n",
    "                                            name='layer2')\n",
    "        flattened = tf.reshape(layer2, [-1, 3 * 3 * 64])\n",
    "                \n",
    "        # setup some weights and bias values for this layer, then activate with ReLU\n",
    "        wd1 = tf.Variable(tf.truncated_normal([3 * 3 * 64, 1000], stddev=0.03), name='wd1')\n",
    "        bd1 = tf.Variable(tf.truncated_normal([1000], stddev=0.01), name='bd1')\n",
    "        dense_layer1 = tf.matmul(flattened, wd1) + bd1\n",
    "        dense_layer1 = tf.nn.relu(dense_layer1)\n",
    "        \n",
    "        # another layer with softmax activations\n",
    "        wd2 = tf.Variable(tf.truncated_normal([1000, num_moves], stddev=0.03), name='wd2')\n",
    "        bd2 = tf.Variable(tf.truncated_normal([num_moves], stddev=0.01), name='bd2')\n",
    "        self.Qout = tf.matmul(dense_layer1, wd2) + bd2\n",
    "        self.predict = tf.argmax(self.Qout, 1)\n",
    "        \n",
    "        # Loss\n",
    "        self.nextQ = tf.placeholder(shape=[1, (2 * board_size - 1) * (board_size - 1) + board_size - 1], dtype=tf.float32)\n",
    "        # cross_entropy\n",
    "#         self.loss = tf.reduce_mean(tf.nn.softmax_cross_entropy_with_logits(logits=self.Qout, labels=self.nextQ))       \n",
    "#         self.updateModel = tf.train.GradientDescentOptimizer(learning_rate=0.01).minimize(self.loss)\n",
    "        \n",
    "        self.td_error = tf.square(self.Qout - self.nextQ)\n",
    "        self.loss = tf.reduce_mean(self.td_error)\n",
    "        self.trainer = tf.train.AdamOptimizer(learning_rate=0.0001)\n",
    "        self.updateModel = self.trainer.minimize(self.loss)\n",
    "        \n",
    "    def create_new_conv_layer(self, input_data, num_input_channels, num_filters, filter_shape, pool_shape, name):\n",
    "        # setup the filter input shape for tf.nn.conv_2d\n",
    "        conv_filt_shape = [filter_shape[0], filter_shape[1], num_input_channels,\n",
    "                          num_filters]\n",
    "        \n",
    "        # initialise weights and bias for the filter\n",
    "        weights = tf.Variable(tf.truncated_normal(conv_filt_shape, stddev=0.03),\n",
    "                                          name=name+'_W')\n",
    "        bias = tf.Variable(tf.truncated_normal([num_filters]), name=name+'_b')\n",
    "\n",
    "        # setup the convolutional layer operation\n",
    "        out_layer = tf.nn.conv2d(input_data, weights, [1, 1, 1, 1], padding='SAME')\n",
    "\n",
    "        # add the bias\n",
    "        out_layer += bias\n",
    "\n",
    "        # apply a ReLU non-linear activation\n",
    "        out_layer = tf.nn.relu(out_layer)\n",
    "\n",
    "        # now perform max pooling\n",
    "        ksize = [1, pool_shape[0], pool_shape[1], 1]\n",
    "        strides = [1, 2, 2, 1]\n",
    "        out_layer = tf.nn.max_pool(out_layer, ksize=ksize, strides=strides, \n",
    "                                   padding='SAME')\n",
    "\n",
    "        return out_layer\n",
    "    \n",
    "    def get_session(self):\n",
    "        return self.session\n",
    "    \n",
    "    def __enter__(self):\n",
    "        return self\n",
    "    \n",
    "    def __exit__(self, exc_type, exc_val, exc_tb):\n",
    "        self.session.close() \n",
    "        \n",
    "    "
   ]
  },
  {
   "cell_type": "code",
   "execution_count": 6,
   "metadata": {},
   "outputs": [],
   "source": [
    "def filter_possible_moves(s, allQ):\n",
    "    #min_num = np.min(allQ) -1\n",
    "    #filteredQ = (s == 0) * (allQ - min_num) + min_num\n",
    "    #if np.isnan(filteredQ).any():\n",
    "    #    pdb.set_trace()\n",
    "    filteredQ = allQ\n",
    "    return np.argmax(filteredQ), np.max(filteredQ), filteredQ"
   ]
  },
  {
   "cell_type": "code",
   "execution_count": 43,
   "metadata": {},
   "outputs": [
    {
     "ename": "ValueError",
     "evalue": "Parent directory of soobin-1 doesn't exist, can't save.",
     "output_type": "error",
     "traceback": [
      "\u001b[0;31m---------------------------------------------------------------------------\u001b[0m",
      "\u001b[0;31mValueError\u001b[0m                                Traceback (most recent call last)",
      "\u001b[0;32m<ipython-input-43-e4baecaaf8f5>\u001b[0m in \u001b[0;36m<module>\u001b[0;34m()\u001b[0m\n\u001b[1;32m     21\u001b[0m             \u001b[0;32mprint\u001b[0m \u001b[0;34m\"Average score from episode \"\u001b[0m \u001b[0;34m+\u001b[0m \u001b[0mstr\u001b[0m\u001b[0;34m(\u001b[0m\u001b[0mi\u001b[0m \u001b[0;34m-\u001b[0m \u001b[0;36m10\u001b[0m\u001b[0;34m)\u001b[0m \u001b[0;34m+\u001b[0m \u001b[0;34m\" to \"\u001b[0m \u001b[0;34m+\u001b[0m \u001b[0mstr\u001b[0m\u001b[0;34m(\u001b[0m\u001b[0mi\u001b[0m\u001b[0;34m)\u001b[0m \u001b[0;34m+\u001b[0m \u001b[0;34m\" is:\"\u001b[0m \u001b[0;34m+\u001b[0m \u001b[0mstr\u001b[0m\u001b[0;34m(\u001b[0m\u001b[0mnp\u001b[0m\u001b[0;34m.\u001b[0m\u001b[0maverage\u001b[0m\u001b[0;34m(\u001b[0m\u001b[0mrList\u001b[0m\u001b[0;34m[\u001b[0m\u001b[0;34m-\u001b[0m\u001b[0;36m10\u001b[0m\u001b[0;34m:\u001b[0m\u001b[0;34m]\u001b[0m\u001b[0;34m)\u001b[0m\u001b[0;34m)\u001b[0m\u001b[0;34m\u001b[0m\u001b[0m\n\u001b[1;32m     22\u001b[0m         \u001b[0;32mif\u001b[0m \u001b[0mi\u001b[0m \u001b[0;34m%\u001b[0m \u001b[0;36m100\u001b[0m \u001b[0;34m==\u001b[0m \u001b[0;36m0\u001b[0m\u001b[0;34m:\u001b[0m\u001b[0;34m\u001b[0m\u001b[0m\n\u001b[0;32m---> 23\u001b[0;31m             \u001b[0msaver\u001b[0m\u001b[0;34m.\u001b[0m\u001b[0msave\u001b[0m\u001b[0;34m(\u001b[0m\u001b[0msess\u001b[0m\u001b[0;34m,\u001b[0m \u001b[0;34m'soobin-1'\u001b[0m\u001b[0;34m,\u001b[0m \u001b[0mglobal_step\u001b[0m \u001b[0;34m=\u001b[0m \u001b[0mi\u001b[0m\u001b[0;34m)\u001b[0m\u001b[0;34m\u001b[0m\u001b[0m\n\u001b[0m\u001b[1;32m     24\u001b[0m \u001b[0;34m\u001b[0m\u001b[0m\n\u001b[1;32m     25\u001b[0m     \u001b[0;31m#Reset environment and get first new observation\u001b[0m\u001b[0;34m\u001b[0m\u001b[0;34m\u001b[0m\u001b[0m\n",
      "\u001b[0;32m/Users/soobinhan/Cornell/cs6700/venv/lib/python2.7/site-packages/tensorflow/python/training/saver.pyc\u001b[0m in \u001b[0;36msave\u001b[0;34m(self, sess, save_path, global_step, latest_filename, meta_graph_suffix, write_meta_graph, write_state, strip_default_attrs)\u001b[0m\n\u001b[1;32m   1718\u001b[0m               \"Parent directory of {} doesn't exist, can't save.\".format(\n\u001b[1;32m   1719\u001b[0m                   save_path))\n\u001b[0;32m-> 1720\u001b[0;31m         \u001b[0;32mraise\u001b[0m \u001b[0mexc\u001b[0m\u001b[0;34m\u001b[0m\u001b[0m\n\u001b[0m\u001b[1;32m   1721\u001b[0m \u001b[0;34m\u001b[0m\u001b[0m\n\u001b[1;32m   1722\u001b[0m     \u001b[0;32mif\u001b[0m \u001b[0mwrite_meta_graph\u001b[0m\u001b[0;34m:\u001b[0m\u001b[0;34m\u001b[0m\u001b[0m\n",
      "\u001b[0;31mValueError\u001b[0m: Parent directory of soobin-1 doesn't exist, can't save."
     ]
    }
   ],
   "source": [
    "NN = ConvNet()\n",
    "saver = tf.train.Saver()\n",
    "# Initialize NN\n",
    "sess = NN.get_session()\n",
    "init = tf.global_variables_initializer()\n",
    "sess.run(init)\n",
    "\n",
    "# Set learning parameters\n",
    "y = .99\n",
    "e = 0.1\n",
    "num_episodes = 5000\n",
    "\n",
    "#create lists to contain total rewards and steps per episode\n",
    "jList = []\n",
    "rList = []\n",
    "\n",
    "for i in range(num_episodes):\n",
    "    \n",
    "    if i % 10 == 0:\n",
    "        if len(rList) > 0:\n",
    "            print \"Average score from episode \" + str(i - 10) + \" to \" + str(i) + \" is:\" + str(np.average(rList[-10:]))\n",
    "        if i % 100 == 0:\n",
    "            saver.save(sess, './model_soobin/soobin-1', global_step = i)\n",
    "            \n",
    "    #Reset environment and get first new observation\n",
    "    state = env.reset()\n",
    "    rAll = 0\n",
    "    d = False\n",
    "    j = 0\n",
    "\n",
    "    #The Q-Network\n",
    "    while d < 1:\n",
    "\n",
    "        #Choose an action by greedily (with e chance of random action) from the Q-network\n",
    "        state_input = np.reshape(state_to_input(state[0]), [-1, 2 * board_size - 1, 2 * board_size - 1, 1])\n",
    "        allQ = sess.run(NN.Qout,feed_dict={NN.input: state_input})\n",
    "        action, _, filteredQ = filter_possible_moves(state, allQ.reshape(-1))\n",
    "\n",
    "        #pdb.set_trace()\n",
    "        if np.random.rand(1) < e:\n",
    "            action = env.action_space_sample()\n",
    "\n",
    "        # Make sure that action isn't null\n",
    "        try:\n",
    "            assert isinstance(action, int)\n",
    "        except:\n",
    "            print \"Caught error at: episode \" + str(i) + \" and step \" + str(j) + \".\"\n",
    "            print \"=========================\"\n",
    "            print \"allQ\\n=========================\"\n",
    "            print allQ\n",
    "            print \"state\\n=========================\"\n",
    "            print state\n",
    "            print \"action\\n=========================\"\n",
    "            print action\n",
    "            print type(action)\n",
    "\n",
    "        #Get new state and reward from environment\n",
    "        next_state, reward, d = env.step(action)\n",
    "\n",
    "        #Obtain the Q' values by feeding the new state through our network\n",
    "        next_state =np.reshape(state_to_input(next_state[0]), [-1, 2 * board_size - 1, 2 * board_size - 1, 1])\n",
    "        next_Q = sess.run(NN.Qout, feed_dict = {NN.input: next_state})\n",
    "\n",
    "        #Obtain maxQ' and set our target value for chosen action.\n",
    "        _, max_next_Q, _ = filter_possible_moves(next_state, next_Q)\n",
    "        targetQ = filteredQ\n",
    "        targetQ[action] = reward + y * max_next_Q\n",
    "\n",
    "        #Train our network using target and predicted Q values\n",
    "        _, _, predictedQ = sess.run([NN.updateModel, NN.loss, NN.Qout], \n",
    "                                    feed_dict={NN.input: state_input, NN.nextQ: targetQ.reshape((1, board_array_size))})\n",
    "        if d != 0:\n",
    "            rAll += reward\n",
    "        state = output_to_state(next_state).reshape((1, board_array_size))\n",
    "\n",
    "        if d == True:\n",
    "            #Reduce chance of random action as we train the model.\n",
    "            e = 1./((i/50) + 10)\n",
    "            break\n",
    "\n",
    " \n",
    "\n",
    "    jList.append(j)\n",
    "    rList.append(rAll)\n",
    "        "
   ]
  },
  {
   "cell_type": "code",
   "execution_count": 41,
   "metadata": {},
   "outputs": [
    {
     "name": "stdout",
     "output_type": "stream",
     "text": [
      "Percent of succesful episodes: 16.37%\n"
     ]
    }
   ],
   "source": [
    "wins = np.array(rList) > 0\n",
    "\n",
    "print \"Percent of succesful episodes: \" + str(float(np.sum(wins)) * 100 / num_episodes) + \"%\""
   ]
  },
  {
   "cell_type": "code",
   "execution_count": 27,
   "metadata": {},
   "outputs": [
    {
     "data": {
      "text/plain": [
       "[<matplotlib.lines.Line2D at 0x115bbcd10>]"
      ]
     },
     "execution_count": 27,
     "metadata": {},
     "output_type": "execute_result"
    },
    {
     "data": {
      "image/png": "[encoded data removed]",
      "text/plain": [
       "<Figure size 432x288 with 1 Axes>"
      ]
     },
     "metadata": {},
     "output_type": "display_data"
    }
   ],
   "source": [
    "plt.plot(jList)"
   ]
  },
  {
   "cell_type": "code",
   "execution_count": 13,
   "metadata": {},
   "outputs": [
    {
     "data": {
      "text/plain": [
       "[<matplotlib.lines.Line2D at 0x11626d750>]"
      ]
     },
     "execution_count": 13,
     "metadata": {},
     "output_type": "execute_result"
    },
    {
     "data": {
      "image/png": "[encoded data removed]",
      "text/plain": [
       "<Figure size 432x288 with 1 Axes>"
      ]
     },
     "metadata": {},
     "output_type": "display_data"
    }
   ],
   "source": [
    "plt.plot(rList)"
   ]
  },
  {
   "cell_type": "code",
   "execution_count": 32,
   "metadata": {},
   "outputs": [],
   "source": [
    "winrate = [float(sum(np.array(rList[i - 1000 : i]) > 0)) / 1000 for i in range(10, num_episodes)]"
   ]
  },
  {
   "cell_type": "code",
   "execution_count": 33,
   "metadata": {},
   "outputs": [
    {
     "data": {
      "text/plain": [
       "[<matplotlib.lines.Line2D at 0x1174d3f10>]"
      ]
     },
     "execution_count": 33,
     "metadata": {},
     "output_type": "execute_result"
    },
    {
     "data": {
      "image/png": "[encoded data removed]",
      "text/plain": [
       "<Figure size 432x288 with 1 Axes>"
      ]
     },
     "metadata": {},
     "output_type": "display_data"
    }
   ],
   "source": [
    "plt.plot(winrate)"
   ]
  },
  {
   "cell_type": "code",
   "execution_count": null,
   "metadata": {},
   "outputs": [],
   "source": []
  }
 ],
 "metadata": {
  "kernelspec": {
   "display_name": "venv-ai",
   "language": "python",
   "name": "venv"
  },
  "language_info": {
   "codemirror_mode": {
    "name": "ipython",
    "version": 2
   },
   "file_extension": ".py",
   "mimetype": "text/x-python",
   "name": "python",
   "nbconvert_exporter": "python",
   "pygments_lexer": "ipython2",
   "version": "2.7.10"
  }
 },
 "nbformat": 4,
 "nbformat_minor": 1
}
